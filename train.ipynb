{
 "cells": [
  {
   "cell_type": "markdown",
   "metadata": {},
   "source": [
    "# Malignancy classification with ANNs\n",
    "\n",
    "**Goal**: We aim to classify malignancy of breast cancer with numerical features of each cell nucleus.\n",
    "\n",
    "**Procedure**:\n",
    "- **Download Data File**\n",
    "    - Download data from kaggle: https://www.kaggle.com/uciml/breast-cancer-wisconsin-data/     \n",
    "    (*This repository does not contain the data csv file; download and place 'data.csv' file under the 'data' directory*)\n",
    "\n",
    "- **Data Preparation**\n",
    "    - Normalize numerical features\n",
    "    - Encode categorical labels\n",
    "    - Split (Train-Test)\n",
    "    \n",
    "- **Training**\n",
    "    - Create an ANN model (with tf2)\n",
    "    - Set hyperparameters (# neurons & layers, dropout, weight decay, etc)\n",
    "\n",
    "- **Assessing the result**\n",
    "    - Plot loss and accuracy"
   ]
  },
  {
   "cell_type": "code",
   "execution_count": 1,
   "metadata": {},
   "outputs": [],
   "source": [
    "import numpy as np\n",
    "import pandas as pd\n",
    "import tensorflow as tf\n",
    "import matplotlib.pyplot as plt\n",
    "\n",
    "from sklearn.preprocessing import LabelEncoder\n",
    "from sklearn.model_selection import train_test_split\n",
    "\n",
    "from tensorflow import keras\n",
    "from tensorflow.keras import layers\n",
    "from tensorflow.keras import preprocessing"
   ]
  },
  {
   "cell_type": "markdown",
   "metadata": {
    "scrolled": true
   },
   "source": [
    "## Import, clean, and split dataset"
   ]
  },
  {
   "cell_type": "code",
   "execution_count": 2,
   "metadata": {},
   "outputs": [],
   "source": [
    "data = pd.read_csv(\"data/data.csv\")\n",
    "\n",
    "X = data.drop(['id', 'diagnosis', 'Unnamed: 32'], \n",
    "              inplace=False,\n",
    "              axis=1)\n",
    "y = data['diagnosis']\n",
    "\n",
    "# normalize numerical (all, in this case) columns of X.\n",
    "X = X.apply(lambda x:(x - x.mean()) / (x.std()), axis=0)\n",
    "\n",
    "# encode labels in Y.\n",
    "encoder = LabelEncoder()\n",
    "y = encoder.fit_transform(y)\n",
    "\n",
    "X_train, X_test, y_train, y_test = train_test_split(X, y, \n",
    "                                                    test_size=0.2)"
   ]
  },
  {
   "cell_type": "markdown",
   "metadata": {},
   "source": [
    "## Define and train a model"
   ]
  },
  {
   "cell_type": "code",
   "execution_count": 18,
   "metadata": {},
   "outputs": [],
   "source": [
    "def get_model():\n",
    "    model = keras.Sequential([\n",
    "        layers.Dense(32, activation='relu', input_shape=[X_train.shape[1]]),\n",
    "        layers.Dropout(0.3),\n",
    "        layers.Dense(32, activation='relu'),\n",
    "        layers.Dropout(0.3),\n",
    "        layers.Dense(1)\n",
    "    ])\n",
    "    \n",
    "    optimizer = tf.keras.optimizers.RMSprop(0.002)\n",
    "    \n",
    "    model.compile(loss = 'binary_crossentropy', \n",
    "                  optimizer = 'rmsprop', \n",
    "                  metrics = ['accuracy'])    \n",
    "    return model \n",
    "\n",
    "model = get_model()"
   ]
  },
  {
   "cell_type": "code",
   "execution_count": 19,
   "metadata": {
    "scrolled": true
   },
   "outputs": [
    {
     "name": "stdout",
     "output_type": "stream",
     "text": [
      "Epoch 1/100\n",
      "23/23 [==============================] - 0s 6ms/step - loss: 2.3396 - accuracy: 0.7033 - val_loss: 0.5973 - val_accuracy: 0.7544\n",
      "Epoch 2/100\n",
      "23/23 [==============================] - 0s 2ms/step - loss: 0.8169 - accuracy: 0.8352 - val_loss: 0.4596 - val_accuracy: 0.8684\n",
      "Epoch 3/100\n",
      "23/23 [==============================] - 0s 3ms/step - loss: 0.7996 - accuracy: 0.8484 - val_loss: 0.4019 - val_accuracy: 0.9123\n",
      "Epoch 4/100\n",
      "23/23 [==============================] - 0s 3ms/step - loss: 0.4477 - accuracy: 0.8857 - val_loss: 0.3645 - val_accuracy: 0.9386\n",
      "Epoch 5/100\n",
      "23/23 [==============================] - 0s 2ms/step - loss: 0.6039 - accuracy: 0.8967 - val_loss: 0.2281 - val_accuracy: 0.9474\n",
      "Epoch 6/100\n",
      "23/23 [==============================] - 0s 2ms/step - loss: 0.4615 - accuracy: 0.8945 - val_loss: 0.2091 - val_accuracy: 0.9474\n",
      "Epoch 7/100\n",
      "23/23 [==============================] - 0s 2ms/step - loss: 0.5348 - accuracy: 0.9099 - val_loss: 0.1940 - val_accuracy: 0.9649\n",
      "Epoch 8/100\n",
      "23/23 [==============================] - 0s 2ms/step - loss: 0.2514 - accuracy: 0.9407 - val_loss: 0.1820 - val_accuracy: 0.9737\n",
      "Epoch 9/100\n",
      "23/23 [==============================] - 0s 2ms/step - loss: 0.2369 - accuracy: 0.9473 - val_loss: 0.1755 - val_accuracy: 0.9737\n",
      "Epoch 10/100\n",
      "23/23 [==============================] - 0s 3ms/step - loss: 0.3169 - accuracy: 0.9385 - val_loss: 0.1753 - val_accuracy: 0.9737\n",
      "Epoch 11/100\n",
      "23/23 [==============================] - 0s 2ms/step - loss: 0.2438 - accuracy: 0.9538 - val_loss: 0.1709 - val_accuracy: 0.9737\n",
      "Epoch 12/100\n",
      "23/23 [==============================] - 0s 2ms/step - loss: 0.1182 - accuracy: 0.9538 - val_loss: 0.1610 - val_accuracy: 0.9912\n",
      "Epoch 13/100\n",
      "23/23 [==============================] - 0s 2ms/step - loss: 0.1415 - accuracy: 0.9648 - val_loss: 0.1594 - val_accuracy: 0.9912\n",
      "Epoch 14/100\n",
      "23/23 [==============================] - 0s 3ms/step - loss: 0.3852 - accuracy: 0.9297 - val_loss: 0.1577 - val_accuracy: 0.9912\n",
      "Epoch 15/100\n",
      "23/23 [==============================] - 0s 3ms/step - loss: 0.2753 - accuracy: 0.9495 - val_loss: 0.1575 - val_accuracy: 0.9912\n",
      "Epoch 16/100\n",
      "23/23 [==============================] - 0s 3ms/step - loss: 0.1180 - accuracy: 0.9714 - val_loss: 0.1558 - val_accuracy: 0.9912\n",
      "Epoch 17/100\n",
      "23/23 [==============================] - 0s 3ms/step - loss: 0.3295 - accuracy: 0.9516 - val_loss: 0.1527 - val_accuracy: 0.9912\n",
      "Epoch 18/100\n",
      "23/23 [==============================] - 0s 3ms/step - loss: 0.2759 - accuracy: 0.9692 - val_loss: 0.1537 - val_accuracy: 0.9912\n",
      "Epoch 19/100\n",
      "23/23 [==============================] - 0s 3ms/step - loss: 0.1834 - accuracy: 0.9692 - val_loss: 0.1529 - val_accuracy: 0.9912\n",
      "Epoch 20/100\n",
      "23/23 [==============================] - 0s 2ms/step - loss: 0.1828 - accuracy: 0.9648 - val_loss: 0.1524 - val_accuracy: 0.9912\n",
      "Epoch 21/100\n",
      "23/23 [==============================] - 0s 2ms/step - loss: 0.1660 - accuracy: 0.9626 - val_loss: 0.1509 - val_accuracy: 0.9825\n",
      "Epoch 22/100\n",
      "23/23 [==============================] - 0s 2ms/step - loss: 0.2270 - accuracy: 0.9780 - val_loss: 0.1500 - val_accuracy: 0.9825\n",
      "Epoch 23/100\n",
      "23/23 [==============================] - 0s 2ms/step - loss: 0.1394 - accuracy: 0.9736 - val_loss: 0.1517 - val_accuracy: 0.9825\n",
      "Epoch 24/100\n",
      "23/23 [==============================] - 0s 2ms/step - loss: 0.1709 - accuracy: 0.9780 - val_loss: 0.1508 - val_accuracy: 0.9825\n",
      "Epoch 25/100\n",
      "23/23 [==============================] - 0s 2ms/step - loss: 0.2315 - accuracy: 0.9692 - val_loss: 0.1531 - val_accuracy: 0.9825\n",
      "Epoch 26/100\n",
      "23/23 [==============================] - 0s 2ms/step - loss: 0.1066 - accuracy: 0.9802 - val_loss: 0.1582 - val_accuracy: 0.9825\n",
      "Epoch 27/100\n",
      "23/23 [==============================] - 0s 2ms/step - loss: 0.2010 - accuracy: 0.9692 - val_loss: 0.1520 - val_accuracy: 0.9825\n",
      "Epoch 28/100\n",
      "23/23 [==============================] - 0s 2ms/step - loss: 0.1285 - accuracy: 0.9802 - val_loss: 0.1529 - val_accuracy: 0.9825\n",
      "Epoch 29/100\n",
      "23/23 [==============================] - 0s 2ms/step - loss: 0.1661 - accuracy: 0.9736 - val_loss: 0.1536 - val_accuracy: 0.9825\n",
      "Epoch 30/100\n",
      "23/23 [==============================] - 0s 2ms/step - loss: 0.1647 - accuracy: 0.9714 - val_loss: 0.1513 - val_accuracy: 0.9825\n",
      "Epoch 31/100\n",
      "23/23 [==============================] - 0s 2ms/step - loss: 0.1647 - accuracy: 0.9802 - val_loss: 0.1525 - val_accuracy: 0.9825\n",
      "Epoch 32/100\n",
      "23/23 [==============================] - 0s 2ms/step - loss: 0.1034 - accuracy: 0.9802 - val_loss: 0.1553 - val_accuracy: 0.9825\n",
      "Epoch 33/100\n",
      "23/23 [==============================] - 0s 3ms/step - loss: 0.1199 - accuracy: 0.9868 - val_loss: 0.1530 - val_accuracy: 0.9825\n",
      "Epoch 34/100\n",
      "23/23 [==============================] - 0s 2ms/step - loss: 0.2043 - accuracy: 0.9714 - val_loss: 0.1507 - val_accuracy: 0.9825\n",
      "Epoch 35/100\n",
      "23/23 [==============================] - 0s 2ms/step - loss: 0.0765 - accuracy: 0.9802 - val_loss: 0.1501 - val_accuracy: 0.9825\n",
      "Epoch 36/100\n",
      "23/23 [==============================] - 0s 2ms/step - loss: 0.1320 - accuracy: 0.9780 - val_loss: 0.1489 - val_accuracy: 0.9825\n",
      "Epoch 37/100\n",
      "23/23 [==============================] - 0s 2ms/step - loss: 0.1009 - accuracy: 0.9802 - val_loss: 0.1536 - val_accuracy: 0.9825\n",
      "Epoch 38/100\n",
      "23/23 [==============================] - 0s 2ms/step - loss: 0.0950 - accuracy: 0.9846 - val_loss: 0.1568 - val_accuracy: 0.9825\n",
      "Epoch 39/100\n",
      "23/23 [==============================] - 0s 2ms/step - loss: 0.1026 - accuracy: 0.9802 - val_loss: 0.1583 - val_accuracy: 0.9825\n",
      "Epoch 40/100\n",
      "23/23 [==============================] - 0s 3ms/step - loss: 0.1711 - accuracy: 0.9758 - val_loss: 0.1572 - val_accuracy: 0.9825\n",
      "Epoch 41/100\n",
      "23/23 [==============================] - 0s 4ms/step - loss: 0.0960 - accuracy: 0.9846 - val_loss: 0.1674 - val_accuracy: 0.9825\n",
      "Epoch 42/100\n",
      "23/23 [==============================] - 0s 4ms/step - loss: 0.1209 - accuracy: 0.9802 - val_loss: 0.1607 - val_accuracy: 0.9825\n",
      "Epoch 43/100\n",
      "23/23 [==============================] - 0s 4ms/step - loss: 0.1181 - accuracy: 0.9912 - val_loss: 0.1523 - val_accuracy: 0.9825\n",
      "Epoch 44/100\n",
      "23/23 [==============================] - 0s 4ms/step - loss: 0.1335 - accuracy: 0.9714 - val_loss: 0.1473 - val_accuracy: 0.9825\n",
      "Epoch 45/100\n",
      "23/23 [==============================] - 0s 4ms/step - loss: 0.0852 - accuracy: 0.9890 - val_loss: 0.1492 - val_accuracy: 0.9825\n",
      "Epoch 46/100\n",
      "23/23 [==============================] - 0s 3ms/step - loss: 0.1215 - accuracy: 0.9846 - val_loss: 0.1603 - val_accuracy: 0.9825\n",
      "Epoch 47/100\n",
      "23/23 [==============================] - 0s 3ms/step - loss: 0.0861 - accuracy: 0.9868 - val_loss: 0.1649 - val_accuracy: 0.9825\n",
      "Epoch 48/100\n",
      "23/23 [==============================] - 0s 2ms/step - loss: 0.1164 - accuracy: 0.9824 - val_loss: 0.1539 - val_accuracy: 0.9825\n",
      "Epoch 49/100\n",
      "23/23 [==============================] - 0s 2ms/step - loss: 0.1145 - accuracy: 0.9890 - val_loss: 0.1495 - val_accuracy: 0.9825\n",
      "Epoch 50/100\n",
      "23/23 [==============================] - 0s 3ms/step - loss: 0.0805 - accuracy: 0.9890 - val_loss: 0.1610 - val_accuracy: 0.9825\n",
      "Epoch 51/100\n",
      "23/23 [==============================] - 0s 4ms/step - loss: 0.0951 - accuracy: 0.9802 - val_loss: 0.1596 - val_accuracy: 0.9825\n",
      "Epoch 52/100\n",
      "23/23 [==============================] - 0s 3ms/step - loss: 0.0871 - accuracy: 0.9846 - val_loss: 0.2710 - val_accuracy: 0.9825\n",
      "Epoch 53/100\n",
      "23/23 [==============================] - 0s 3ms/step - loss: 0.0876 - accuracy: 0.9802 - val_loss: 0.2711 - val_accuracy: 0.9825\n",
      "Epoch 54/100\n",
      "23/23 [==============================] - 0s 3ms/step - loss: 0.0783 - accuracy: 0.9912 - val_loss: 0.2723 - val_accuracy: 0.9825\n",
      "Epoch 55/100\n",
      "23/23 [==============================] - 0s 3ms/step - loss: 0.1148 - accuracy: 0.9868 - val_loss: 0.1695 - val_accuracy: 0.9825\n",
      "Epoch 56/100\n",
      "23/23 [==============================] - 0s 2ms/step - loss: 0.1237 - accuracy: 0.9868 - val_loss: 0.2709 - val_accuracy: 0.9825\n",
      "Epoch 57/100\n",
      "23/23 [==============================] - 0s 3ms/step - loss: 0.1080 - accuracy: 0.9912 - val_loss: 0.2710 - val_accuracy: 0.9825\n",
      "Epoch 58/100\n",
      "23/23 [==============================] - 0s 3ms/step - loss: 0.1131 - accuracy: 0.9846 - val_loss: 0.2704 - val_accuracy: 0.9825\n"
     ]
    },
    {
     "name": "stdout",
     "output_type": "stream",
     "text": [
      "Epoch 59/100\n",
      "23/23 [==============================] - 0s 3ms/step - loss: 0.0810 - accuracy: 0.9890 - val_loss: 0.2707 - val_accuracy: 0.9825\n",
      "Epoch 60/100\n",
      "23/23 [==============================] - 0s 2ms/step - loss: 0.1516 - accuracy: 0.9802 - val_loss: 0.2709 - val_accuracy: 0.9825\n",
      "Epoch 61/100\n",
      "23/23 [==============================] - 0s 2ms/step - loss: 0.1108 - accuracy: 0.9890 - val_loss: 0.2711 - val_accuracy: 0.9825\n",
      "Epoch 62/100\n",
      "23/23 [==============================] - 0s 2ms/step - loss: 0.1210 - accuracy: 0.9824 - val_loss: 0.2709 - val_accuracy: 0.9825\n",
      "Epoch 63/100\n",
      "23/23 [==============================] - 0s 2ms/step - loss: 0.1775 - accuracy: 0.9846 - val_loss: 0.2712 - val_accuracy: 0.9825\n",
      "Epoch 64/100\n",
      "23/23 [==============================] - 0s 2ms/step - loss: 0.0770 - accuracy: 0.9890 - val_loss: 0.2717 - val_accuracy: 0.9825\n",
      "Epoch 65/100\n",
      "23/23 [==============================] - 0s 2ms/step - loss: 0.1500 - accuracy: 0.9890 - val_loss: 0.2715 - val_accuracy: 0.9825\n",
      "Epoch 66/100\n",
      "23/23 [==============================] - 0s 2ms/step - loss: 0.1028 - accuracy: 0.9824 - val_loss: 0.1637 - val_accuracy: 0.9825\n",
      "Epoch 67/100\n",
      "23/23 [==============================] - 0s 2ms/step - loss: 0.0828 - accuracy: 0.9890 - val_loss: 0.2709 - val_accuracy: 0.9825\n",
      "Epoch 68/100\n",
      "23/23 [==============================] - 0s 2ms/step - loss: 0.1157 - accuracy: 0.9890 - val_loss: 0.2711 - val_accuracy: 0.9825\n",
      "Epoch 69/100\n",
      "23/23 [==============================] - 0s 2ms/step - loss: 0.1087 - accuracy: 0.9890 - val_loss: 0.2708 - val_accuracy: 0.9825\n",
      "Epoch 70/100\n",
      "23/23 [==============================] - 0s 2ms/step - loss: 0.1124 - accuracy: 0.9868 - val_loss: 0.1684 - val_accuracy: 0.9825\n",
      "Epoch 71/100\n",
      "23/23 [==============================] - 0s 2ms/step - loss: 0.1422 - accuracy: 0.9868 - val_loss: 0.2718 - val_accuracy: 0.9825\n",
      "Epoch 72/100\n",
      "23/23 [==============================] - 0s 2ms/step - loss: 0.1071 - accuracy: 0.9912 - val_loss: 0.2717 - val_accuracy: 0.9825\n",
      "Epoch 73/100\n",
      "23/23 [==============================] - 0s 3ms/step - loss: 0.1483 - accuracy: 0.9802 - val_loss: 0.1551 - val_accuracy: 0.9825\n",
      "Epoch 74/100\n",
      "23/23 [==============================] - 0s 2ms/step - loss: 0.1445 - accuracy: 0.9846 - val_loss: 0.1593 - val_accuracy: 0.9825\n",
      "Epoch 75/100\n",
      "23/23 [==============================] - 0s 2ms/step - loss: 0.0805 - accuracy: 0.9890 - val_loss: 0.2720 - val_accuracy: 0.9825\n",
      "Epoch 76/100\n",
      "23/23 [==============================] - 0s 2ms/step - loss: 0.1129 - accuracy: 0.9868 - val_loss: 0.2716 - val_accuracy: 0.9825\n",
      "Epoch 77/100\n",
      "23/23 [==============================] - 0s 2ms/step - loss: 0.0802 - accuracy: 0.9868 - val_loss: 0.2707 - val_accuracy: 0.9825\n",
      "Epoch 78/100\n",
      "23/23 [==============================] - 0s 3ms/step - loss: 0.0828 - accuracy: 0.9890 - val_loss: 0.2708 - val_accuracy: 0.9825\n",
      "Epoch 79/100\n",
      "23/23 [==============================] - 0s 2ms/step - loss: 0.1083 - accuracy: 0.9912 - val_loss: 0.2710 - val_accuracy: 0.9825\n",
      "Epoch 80/100\n",
      "23/23 [==============================] - 0s 2ms/step - loss: 0.1109 - accuracy: 0.9890 - val_loss: 0.2709 - val_accuracy: 0.9825\n",
      "Epoch 81/100\n",
      "23/23 [==============================] - 0s 3ms/step - loss: 0.1029 - accuracy: 0.9934 - val_loss: 0.2724 - val_accuracy: 0.9825\n",
      "Epoch 82/100\n",
      "23/23 [==============================] - 0s 2ms/step - loss: 0.0761 - accuracy: 0.9912 - val_loss: 0.2732 - val_accuracy: 0.9825\n",
      "Epoch 83/100\n",
      "23/23 [==============================] - 0s 3ms/step - loss: 0.0807 - accuracy: 0.9912 - val_loss: 0.2728 - val_accuracy: 0.9825\n",
      "Epoch 84/100\n",
      "23/23 [==============================] - 0s 2ms/step - loss: 0.1377 - accuracy: 0.9890 - val_loss: 0.2721 - val_accuracy: 0.9825\n",
      "Epoch 85/100\n",
      "23/23 [==============================] - 0s 3ms/step - loss: 0.0750 - accuracy: 0.9934 - val_loss: 0.2703 - val_accuracy: 0.9825\n",
      "Epoch 86/100\n",
      "23/23 [==============================] - 0s 2ms/step - loss: 0.0734 - accuracy: 0.9912 - val_loss: 0.2711 - val_accuracy: 0.9825\n",
      "Epoch 87/100\n",
      "23/23 [==============================] - 0s 2ms/step - loss: 0.0724 - accuracy: 0.9934 - val_loss: 0.2705 - val_accuracy: 0.9825\n",
      "Epoch 88/100\n",
      "23/23 [==============================] - 0s 2ms/step - loss: 0.1425 - accuracy: 0.9868 - val_loss: 0.2708 - val_accuracy: 0.9825\n",
      "Epoch 89/100\n",
      "23/23 [==============================] - 0s 2ms/step - loss: 0.0786 - accuracy: 0.9934 - val_loss: 0.2702 - val_accuracy: 0.9825\n",
      "Epoch 90/100\n",
      "23/23 [==============================] - 0s 2ms/step - loss: 0.0762 - accuracy: 0.9912 - val_loss: 0.2701 - val_accuracy: 0.9825\n",
      "Epoch 91/100\n",
      "23/23 [==============================] - 0s 3ms/step - loss: 0.1050 - accuracy: 0.9934 - val_loss: 0.1524 - val_accuracy: 0.9825\n",
      "Epoch 92/100\n",
      "23/23 [==============================] - 0s 2ms/step - loss: 0.1131 - accuracy: 0.9890 - val_loss: 0.1780 - val_accuracy: 0.9825\n",
      "Epoch 93/100\n",
      "23/23 [==============================] - 0s 2ms/step - loss: 0.0768 - accuracy: 0.9912 - val_loss: 0.1896 - val_accuracy: 0.9825\n",
      "Epoch 94/100\n",
      "23/23 [==============================] - 0s 3ms/step - loss: 0.0763 - accuracy: 0.9934 - val_loss: 0.1599 - val_accuracy: 0.9825\n",
      "Epoch 95/100\n",
      "23/23 [==============================] - 0s 3ms/step - loss: 0.0760 - accuracy: 0.9912 - val_loss: 0.2708 - val_accuracy: 0.9825\n",
      "Epoch 96/100\n",
      "23/23 [==============================] - 0s 3ms/step - loss: 0.0872 - accuracy: 0.9868 - val_loss: 0.2716 - val_accuracy: 0.9825\n",
      "Epoch 97/100\n",
      "23/23 [==============================] - 0s 3ms/step - loss: 0.1161 - accuracy: 0.9868 - val_loss: 0.2710 - val_accuracy: 0.9825\n",
      "Epoch 98/100\n",
      "23/23 [==============================] - 0s 2ms/step - loss: 0.0746 - accuracy: 0.9934 - val_loss: 0.2709 - val_accuracy: 0.9825\n",
      "Epoch 99/100\n",
      "23/23 [==============================] - 0s 2ms/step - loss: 0.0803 - accuracy: 0.9912 - val_loss: 0.2714 - val_accuracy: 0.9825\n",
      "Epoch 100/100\n",
      "23/23 [==============================] - 0s 2ms/step - loss: 0.0727 - accuracy: 0.9934 - val_loss: 0.2723 - val_accuracy: 0.9825\n"
     ]
    }
   ],
   "source": [
    "history = model.fit(X_train, y_train, \n",
    "                    validation_data = (X_test, y_test),\n",
    "                    epochs=100,\n",
    "                    batch_size=20)"
   ]
  },
  {
   "cell_type": "markdown",
   "metadata": {},
   "source": [
    "## Plot loss & accuracy"
   ]
  },
  {
   "cell_type": "markdown",
   "metadata": {},
   "source": [
    "### Loss (train & validation)"
   ]
  },
  {
   "cell_type": "code",
   "execution_count": 20,
   "metadata": {},
   "outputs": [
    {
     "data": {
      "image/png": "[encoded data removed]",
      "text/plain": [
       "<Figure size 432x288 with 1 Axes>"
      ]
     },
     "metadata": {
      "needs_background": "light"
     },
     "output_type": "display_data"
    }
   ],
   "source": [
    "plt.plot(history.history['loss'])\n",
    "plt.plot(history.history['val_loss']) \n",
    "plt.title('Model loss') \n",
    "plt.ylabel('Loss') \n",
    "plt.xlabel('Epoch') \n",
    "plt.legend(['Train', 'Test'], loc='upper left') \n",
    "plt.show()"
   ]
  },
  {
   "cell_type": "markdown",
   "metadata": {},
   "source": [
    "### Accuracy (train & validation)"
   ]
  },
  {
   "cell_type": "code",
   "execution_count": 21,
   "metadata": {},
   "outputs": [
    {
     "data": {
      "image/png": "[encoded data removed]",
      "text/plain": [
       "<Figure size 432x288 with 1 Axes>"
      ]
     },
     "metadata": {
      "needs_background": "light"
     },
     "output_type": "display_data"
    }
   ],
   "source": [
    "plt.plot(history.history['accuracy'])\n",
    "plt.plot(history.history['val_accuracy'])\n",
    "plt.title('Model accuracy')\n",
    "plt.ylabel('Accuracy')\n",
    "plt.xlabel('Epoch')\n",
    "plt.legend(['Train', 'Test'], loc='upper left')\n",
    "plt.show()"
   ]
  },
  {
   "cell_type": "code",
   "execution_count": 33,
   "metadata": {},
   "outputs": [
    {
     "name": "stdout",
     "output_type": "stream",
     "text": [
      "4/4 [==============================] - 0s 1ms/step - loss: 0.2723 - accuracy: 0.9825\n",
      "test accuracy: 0.9824561476707458\n"
     ]
    }
   ],
   "source": [
    "# print the final result\n",
    "\n",
    "_, accuracy_test = model.evaluate(X_test, y_test)\n",
    "\n",
    "print(\"test accuracy:\", accuracy_test)"
   ]
  },
  {
   "cell_type": "markdown",
   "metadata": {},
   "source": [
    "*I tuned some hyperparameters (dropout, # neurons, etc) based on above graphs to optimize validaction accuracy.*"
   ]
  }
 ],
 "metadata": {
  "kernelspec": {
   "display_name": "Python 3",
   "language": "python",
   "name": "python3"
  },
  "language_info": {
   "codemirror_mode": {
    "name": "ipython",
    "version": 3
   },
   "file_extension": ".py",
   "mimetype": "text/x-python",
   "name": "python",
   "nbconvert_exporter": "python",
   "pygments_lexer": "ipython3",
   "version": "3.8.5"
  }
 },
 "nbformat": 4,
 "nbformat_minor": 4
}
